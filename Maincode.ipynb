{
 "cells": [
  {
   "cell_type": "code",
   "execution_count": 1,
   "id": "bee18c7b",
   "metadata": {},
   "outputs": [
    {
     "name": "stdout",
     "output_type": "stream",
     "text": [
      "Requirement already satisfied: opencv-python in d:\\anaconda\\lib\\site-packages (4.7.0.72)\n",
      "Requirement already satisfied: numpy>=1.17.0 in d:\\anaconda\\lib\\site-packages (from opencv-python) (1.23.5)\n"
     ]
    }
   ],
   "source": [
    "# Installing necessary Packages\n",
    "\n",
    "!pip install opencv-python"
   ]
  },
  {
   "cell_type": "code",
   "execution_count": 2,
   "id": "e37c414e",
   "metadata": {},
   "outputs": [
    {
     "name": "stdout",
     "output_type": "stream",
     "text": [
      "Requirement already satisfied: tensorflow in c:\\users\\user\\appdata\\roaming\\python\\python39\\site-packages (2.12.0)\n",
      "Requirement already satisfied: tensorflow-intel==2.12.0 in c:\\users\\user\\appdata\\roaming\\python\\python39\\site-packages (from tensorflow) (2.12.0)\n",
      "Requirement already satisfied: absl-py>=1.0.0 in c:\\users\\user\\appdata\\roaming\\python\\python39\\site-packages (from tensorflow-intel==2.12.0->tensorflow) (1.4.0)\n",
      "Requirement already satisfied: astunparse>=1.6.0 in c:\\users\\user\\appdata\\roaming\\python\\python39\\site-packages (from tensorflow-intel==2.12.0->tensorflow) (1.6.3)\n",
      "Requirement already satisfied: flatbuffers>=2.0 in d:\\anaconda\\lib\\site-packages (from tensorflow-intel==2.12.0->tensorflow) (23.3.3)\n",
      "Requirement already satisfied: gast<=0.4.0,>=0.2.1 in c:\\users\\user\\appdata\\roaming\\python\\python39\\site-packages (from tensorflow-intel==2.12.0->tensorflow) (0.4.0)\n",
      "Requirement already satisfied: google-pasta>=0.1.1 in c:\\users\\user\\appdata\\roaming\\python\\python39\\site-packages (from tensorflow-intel==2.12.0->tensorflow) (0.2.0)\n",
      "Requirement already satisfied: h5py>=2.9.0 in d:\\anaconda\\lib\\site-packages (from tensorflow-intel==2.12.0->tensorflow) (3.7.0)\n",
      "Requirement already satisfied: jax>=0.3.15 in c:\\users\\user\\appdata\\roaming\\python\\python39\\site-packages (from tensorflow-intel==2.12.0->tensorflow) (0.4.8)\n",
      "Requirement already satisfied: libclang>=13.0.0 in d:\\anaconda\\lib\\site-packages (from tensorflow-intel==2.12.0->tensorflow) (16.0.0)\n",
      "Requirement already satisfied: numpy<1.24,>=1.22 in d:\\anaconda\\lib\\site-packages (from tensorflow-intel==2.12.0->tensorflow) (1.23.5)\n",
      "Requirement already satisfied: opt-einsum>=2.3.2 in c:\\users\\user\\appdata\\roaming\\python\\python39\\site-packages (from tensorflow-intel==2.12.0->tensorflow) (3.3.0)\n",
      "Requirement already satisfied: packaging in d:\\anaconda\\lib\\site-packages (from tensorflow-intel==2.12.0->tensorflow) (21.3)\n",
      "Requirement already satisfied: protobuf!=4.21.0,!=4.21.1,!=4.21.2,!=4.21.3,!=4.21.4,!=4.21.5,<5.0.0dev,>=3.20.3 in d:\\anaconda\\lib\\site-packages (from tensorflow-intel==2.12.0->tensorflow) (4.22.3)\n",
      "Requirement already satisfied: setuptools in d:\\anaconda\\lib\\site-packages (from tensorflow-intel==2.12.0->tensorflow) (63.4.1)\n",
      "Requirement already satisfied: six>=1.12.0 in d:\\anaconda\\lib\\site-packages (from tensorflow-intel==2.12.0->tensorflow) (1.16.0)\n",
      "Requirement already satisfied: termcolor>=1.1.0 in d:\\anaconda\\lib\\site-packages (from tensorflow-intel==2.12.0->tensorflow) (2.2.0)\n",
      "Requirement already satisfied: typing-extensions>=3.6.6 in d:\\anaconda\\lib\\site-packages (from tensorflow-intel==2.12.0->tensorflow) (4.3.0)\n",
      "Requirement already satisfied: wrapt<1.15,>=1.11.0 in d:\\anaconda\\lib\\site-packages (from tensorflow-intel==2.12.0->tensorflow) (1.14.1)\n",
      "Requirement already satisfied: grpcio<2.0,>=1.24.3 in c:\\users\\user\\appdata\\roaming\\python\\python39\\site-packages (from tensorflow-intel==2.12.0->tensorflow) (1.53.0)\n",
      "Requirement already satisfied: tensorboard<2.13,>=2.12 in c:\\users\\user\\appdata\\roaming\\python\\python39\\site-packages (from tensorflow-intel==2.12.0->tensorflow) (2.12.2)\n",
      "Requirement already satisfied: tensorflow-estimator<2.13,>=2.12.0 in d:\\anaconda\\lib\\site-packages (from tensorflow-intel==2.12.0->tensorflow) (2.12.0)\n",
      "Requirement already satisfied: keras<2.13,>=2.12.0 in c:\\users\\user\\appdata\\roaming\\python\\python39\\site-packages (from tensorflow-intel==2.12.0->tensorflow) (2.12.0)\n",
      "Requirement already satisfied: tensorflow-io-gcs-filesystem>=0.23.1 in d:\\anaconda\\lib\\site-packages (from tensorflow-intel==2.12.0->tensorflow) (0.31.0)\n",
      "Requirement already satisfied: wheel<1.0,>=0.23.0 in d:\\anaconda\\lib\\site-packages (from astunparse>=1.6.0->tensorflow-intel==2.12.0->tensorflow) (0.37.1)\n",
      "Requirement already satisfied: ml-dtypes>=0.0.3 in c:\\users\\user\\appdata\\roaming\\python\\python39\\site-packages (from jax>=0.3.15->tensorflow-intel==2.12.0->tensorflow) (0.1.0)\n",
      "Requirement already satisfied: scipy>=1.7 in d:\\anaconda\\lib\\site-packages (from jax>=0.3.15->tensorflow-intel==2.12.0->tensorflow) (1.9.1)\n",
      "Requirement already satisfied: google-auth<3,>=1.6.3 in c:\\users\\user\\appdata\\roaming\\python\\python39\\site-packages (from tensorboard<2.13,>=2.12->tensorflow-intel==2.12.0->tensorflow) (2.17.3)\n",
      "Requirement already satisfied: google-auth-oauthlib<1.1,>=0.5 in c:\\users\\user\\appdata\\roaming\\python\\python39\\site-packages (from tensorboard<2.13,>=2.12->tensorflow-intel==2.12.0->tensorflow) (1.0.0)\n",
      "Requirement already satisfied: markdown>=2.6.8 in d:\\anaconda\\lib\\site-packages (from tensorboard<2.13,>=2.12->tensorflow-intel==2.12.0->tensorflow) (3.3.4)\n",
      "Requirement already satisfied: requests<3,>=2.21.0 in d:\\anaconda\\lib\\site-packages (from tensorboard<2.13,>=2.12->tensorflow-intel==2.12.0->tensorflow) (2.28.1)\n",
      "Requirement already satisfied: tensorboard-data-server<0.8.0,>=0.7.0 in d:\\anaconda\\lib\\site-packages (from tensorboard<2.13,>=2.12->tensorflow-intel==2.12.0->tensorflow) (0.7.0)\n",
      "Requirement already satisfied: tensorboard-plugin-wit>=1.6.0 in d:\\anaconda\\lib\\site-packages (from tensorboard<2.13,>=2.12->tensorflow-intel==2.12.0->tensorflow) (1.8.1)\n",
      "Requirement already satisfied: werkzeug>=1.0.1 in d:\\anaconda\\lib\\site-packages (from tensorboard<2.13,>=2.12->tensorflow-intel==2.12.0->tensorflow) (2.0.3)\n",
      "Requirement already satisfied: pyparsing!=3.0.5,>=2.0.2 in d:\\anaconda\\lib\\site-packages (from packaging->tensorflow-intel==2.12.0->tensorflow) (3.0.9)\n",
      "Requirement already satisfied: cachetools<6.0,>=2.0.0 in c:\\users\\user\\appdata\\roaming\\python\\python39\\site-packages (from google-auth<3,>=1.6.3->tensorboard<2.13,>=2.12->tensorflow-intel==2.12.0->tensorflow) (5.3.0)\n",
      "Requirement already satisfied: pyasn1-modules>=0.2.1 in d:\\anaconda\\lib\\site-packages (from google-auth<3,>=1.6.3->tensorboard<2.13,>=2.12->tensorflow-intel==2.12.0->tensorflow) (0.2.8)\n",
      "Requirement already satisfied: rsa<5,>=3.1.4 in d:\\anaconda\\lib\\site-packages (from google-auth<3,>=1.6.3->tensorboard<2.13,>=2.12->tensorflow-intel==2.12.0->tensorflow) (4.9)\n",
      "Requirement already satisfied: requests-oauthlib>=0.7.0 in c:\\users\\user\\appdata\\roaming\\python\\python39\\site-packages (from google-auth-oauthlib<1.1,>=0.5->tensorboard<2.13,>=2.12->tensorflow-intel==2.12.0->tensorflow) (1.3.1)\n",
      "Requirement already satisfied: charset-normalizer<3,>=2 in d:\\anaconda\\lib\\site-packages (from requests<3,>=2.21.0->tensorboard<2.13,>=2.12->tensorflow-intel==2.12.0->tensorflow) (2.0.4)\n",
      "Requirement already satisfied: idna<4,>=2.5 in d:\\anaconda\\lib\\site-packages (from requests<3,>=2.21.0->tensorboard<2.13,>=2.12->tensorflow-intel==2.12.0->tensorflow) (3.3)\n",
      "Requirement already satisfied: urllib3<1.27,>=1.21.1 in d:\\anaconda\\lib\\site-packages (from requests<3,>=2.21.0->tensorboard<2.13,>=2.12->tensorflow-intel==2.12.0->tensorflow) (1.26.11)\n",
      "Requirement already satisfied: certifi>=2017.4.17 in d:\\anaconda\\lib\\site-packages (from requests<3,>=2.21.0->tensorboard<2.13,>=2.12->tensorflow-intel==2.12.0->tensorflow) (2022.9.14)\n",
      "Requirement already satisfied: pyasn1<0.5.0,>=0.4.6 in d:\\anaconda\\lib\\site-packages (from pyasn1-modules>=0.2.1->google-auth<3,>=1.6.3->tensorboard<2.13,>=2.12->tensorflow-intel==2.12.0->tensorflow) (0.4.8)\n",
      "Requirement already satisfied: oauthlib>=3.0.0 in d:\\anaconda\\lib\\site-packages (from requests-oauthlib>=0.7.0->google-auth-oauthlib<1.1,>=0.5->tensorboard<2.13,>=2.12->tensorflow-intel==2.12.0->tensorflow) (3.2.2)\n"
     ]
    }
   ],
   "source": [
    "!pip install tensorflow"
   ]
  },
  {
   "cell_type": "code",
   "execution_count": 4,
   "id": "2af394be",
   "metadata": {},
   "outputs": [],
   "source": [
    "# Importing necessary libraries\n",
    "\n",
    "import os\n",
    "\n",
    "import cv2\n",
    "\n",
    "import numpy as np\n",
    "\n",
    "from tqdm import tqdm"
   ]
  },
  {
   "cell_type": "markdown",
   "id": "2f8ae0ce",
   "metadata": {},
   "source": [
    "# Data Preprocessing"
   ]
  },
  {
   "cell_type": "code",
   "execution_count": null,
   "id": "af90c993-03cc-44a7-b6ba-adeeae8d2323",
   "metadata": {},
   "outputs": [],
   "source": [
    "import zipfile\n",
    "import os\n",
    "\n",
    "# Define the path to the zip file\n",
    "zip_file_path = \"archive.zip\"  # Update this with the actual zip file name\n",
    "extract_path = \"Biometrics/CASIA_B_extracted\"  # Folder where extracted files will be stored\n",
    "\n",
    "# Create the extraction folder if it doesn't exist\n",
    "os.makedirs(extract_path, exist_ok=True)\n",
    "\n",
    "with zipfile.ZipFile(zip_file_path, 'r') as zip_ref:\n",
    "    zip_ref.extractall(extract_path)\n",
    "\n",
    "print(\"Extraction completed successfully!\")\n"
   ]
  },
  {
   "cell_type": "code",
   "execution_count": 5,
   "id": "2c74aae5",
   "metadata": {},
   "outputs": [],
   "source": [
    "dataset_path = \"Biometrics/CASIA_B_extracted/output\""
   ]
  },
  {
   "cell_type": "code",
   "execution_count": 6,
   "id": "3ad254c5",
   "metadata": {},
   "outputs": [],
   "source": [
    "import os\n",
    "\n",
    "import random\n",
    "\n",
    "import shutil\n",
    "\n",
    "from pathlib import Path\n",
    "\n",
    "# Setting the seed for reproducibility\n",
    "\n",
    "random.seed(42)\n",
    "\n",
    "def split_dataset(dataset_path, output_path, train_ratio=0.7, val_ratio=0.15):\n",
    "    \n",
    "    # Create train, validation, and test directories\n",
    "    \n",
    "    train_dir = os.path.join(output_path, 'train')\n",
    "    \n",
    "    val_dir = os.path.join(output_path, 'validation')\n",
    "    \n",
    "    test_dir = os.path.join(output_path, 'test')\n",
    "\n",
    "    os.makedirs(train_dir, exist_ok=True)\n",
    "    \n",
    "    os.makedirs(val_dir, exist_ok=True)\n",
    "    \n",
    "    os.makedirs(test_dir, exist_ok=True)\n",
    "\n",
    "    # Iterating through all the subject folders\n",
    "    \n",
    "    for subject_id in range(1, 125):\n",
    "        \n",
    "        subject_folder = os.path.join(dataset_path, f'{subject_id:03d}')\n",
    "        \n",
    "        subject_images = []\n",
    "\n",
    "        # Gathering all images for the current subject\n",
    "        \n",
    "        for root, _, files in os.walk(subject_folder):\n",
    "            \n",
    "            for file in files:\n",
    "                \n",
    "                if file.endswith('.png') or file.endswith('.jpg'):\n",
    "                    \n",
    "                    subject_images.append(os.path.join(root, file))\n",
    "\n",
    "        # Shuffling the images\n",
    "        \n",
    "        random.shuffle(subject_images)\n",
    "\n",
    "        # Calculating the number of images for each partition\n",
    "        \n",
    "        total_images = len(subject_images)\n",
    "        \n",
    "        train_count = int(total_images * train_ratio)\n",
    "        \n",
    "        val_count = int(total_images * val_ratio)\n",
    "        \n",
    "        test_count = total_images - train_count - val_count\n",
    "\n",
    "        # Spliting the images into train, validation, and test sets\n",
    "        \n",
    "        train_images = subject_images[:train_count]\n",
    "        \n",
    "        val_images = subject_images[train_count:train_count + val_count]\n",
    "        \n",
    "        test_images = subject_images[train_count + val_count:]\n",
    "\n",
    "        # Copying the images to their respective directories\n",
    "        \n",
    "        for partition, images in zip(['train', 'validation', 'test'], [train_images, val_images, test_images]):\n",
    "            \n",
    "            partition_dir = os.path.join(output_path, partition, f'{subject_id:03d}')\n",
    "            \n",
    "            os.makedirs(partition_dir, exist_ok=True)\n",
    "\n",
    "            for image_path in images:\n",
    "                \n",
    "                shutil.copy(image_path, os.path.join(partition_dir, Path(image_path).name))\n",
    "\n",
    "# Setting the path to the original dataset and the output directory\n",
    "\n",
    "dataset_path = \"Biometrics/CASIA_B_extracted/output\"\n",
    "\n",
    "output_path = \"Biometrics/CASIA_B_Split\"\n",
    "\n",
    "# Spliting the dataset\n",
    "\n",
    "split_dataset(dataset_path, output_path)\n"
   ]
  },
  {
   "cell_type": "code",
   "execution_count": 7,
   "id": "4e080495",
   "metadata": {},
   "outputs": [
    {
     "name": "stdout",
     "output_type": "stream",
     "text": [
      "Found 782803 images belonging to 124 classes.\n",
      "Found 167694 images belonging to 124 classes.\n",
      "Found 167876 images belonging to 124 classes.\n"
     ]
    }
   ],
   "source": [
    "import os\n",
    "\n",
    "from tensorflow.keras.preprocessing.image import ImageDataGenerator\n",
    "\n",
    "# Setting the path to the output directory\n",
    "\n",
    "output_path = \"Biometrics/CASIA_B_Split\"\n",
    "\n",
    "# Defining the output image size\n",
    "\n",
    "output_image_size = (224, 224)\n",
    "\n",
    "def grayscale_to_rgb_preprocessing(x):\n",
    "    \n",
    "    x = np.stack([x[..., 0], x[..., 0], x[..., 0]], axis=-1)\n",
    "    \n",
    "    return x\n",
    "\n",
    "\n",
    "data_gen = ImageDataGenerator(preprocessing_function=grayscale_to_rgb_preprocessing,\n",
    "                              \n",
    "                              rescale=1./255,\n",
    "                              \n",
    "                              rotation_range=15,\n",
    "                              \n",
    "                              width_shift_range=0.1,\n",
    "                              \n",
    "                              height_shift_range=0.1,\n",
    "                              \n",
    "                              horizontal_flip=True)\n",
    "\n",
    "# Defining the ImageDataGenerator for validation and test sets (no augmentation)\n",
    "\n",
    "validation_data_gen = ImageDataGenerator(preprocessing_function=grayscale_to_rgb_preprocessing, rescale=1./255)\n",
    "\n",
    "# Creating iterators for the train, validation, and test sets\n",
    "\n",
    "train_iterator = data_gen.flow_from_directory(os.path.join(output_path, 'train'),\n",
    "                                              \n",
    "                                              target_size=output_image_size,\n",
    "                                              \n",
    "                                              color_mode='rgb',\n",
    "                                              \n",
    "                                              batch_size=32,\n",
    "                                              \n",
    "                                              class_mode='categorical')\n",
    "\n",
    "validation_iterator = validation_data_gen.flow_from_directory(os.path.join(output_path, 'validation'),\n",
    "                                                              \n",
    "                                                              target_size=output_image_size,\n",
    "                                                              \n",
    "                                                              color_mode='rgb',\n",
    "                                                              \n",
    "                                                              batch_size=32,\n",
    "                                                              \n",
    "                                                              class_mode='categorical')\n",
    "\n",
    "test_iterator = validation_data_gen.flow_from_directory(os.path.join(output_path, 'test'),\n",
    "                                                        \n",
    "                                                        target_size=output_image_size,\n",
    "                                                        \n",
    "                                                        color_mode='rgb',\n",
    "                                                        \n",
    "                                                        batch_size=32,\n",
    "                                                        \n",
    "                                                        class_mode='categorical')\n"
   ]
  },
  {
   "cell_type": "code",
   "execution_count": 8,
   "id": "b7400182",
   "metadata": {},
   "outputs": [],
   "source": [
    "train_dataset_size = train_iterator.n\n",
    "\n",
    "validation_dataset_size = validation_iterator.n\n",
    "\n",
    "test_dataset_size = test_iterator.n\n",
    "\n",
    "batch_size = 32\n",
    "\n",
    "#Reduced batch size to speed up the training process.\n",
    "\n",
    "train_steps_per_epoch = int(np.ceil(train_dataset_size / batch_size))\n",
    "\n",
    "validation_steps_per_epoch = int(np.ceil(validation_dataset_size / batch_size))\n",
    "\n",
    "test_steps_per_epoch = int(np.ceil(test_dataset_size / batch_size))"
   ]
  },
  {
   "cell_type": "code",
   "execution_count": 9,
   "id": "f787b4d2",
   "metadata": {},
   "outputs": [],
   "source": [
    "def create_pairs_and_labels(data_iterator, steps_per_epoch):\n",
    "    \n",
    "    for _ in range(steps_per_epoch):\n",
    "        \n",
    "        try:\n",
    "            \n",
    "            # Getting the next batch of images and labels\n",
    "            \n",
    "            images, labels = next(data_iterator)\n",
    "            \n",
    "        except StopIteration:\n",
    "            \n",
    "            # If the iterator reaches the end of the dataset, reset the iterator and continue\n",
    "            \n",
    "            data_iterator.reset()\n",
    "            \n",
    "            images, labels = next(data_iterator)\n",
    "\n",
    "        # Calculating the number of pairs\n",
    "        \n",
    "        num_pairs = images.shape[0] * 2\n",
    "\n",
    "        # Creating an empty array for the image pairs and labels\n",
    "        \n",
    "        image_pairs = np.zeros((num_pairs, 2, images.shape[1], images.shape[2], images.shape[3]))\n",
    "        \n",
    "        pair_labels = np.zeros((num_pairs,))\n",
    "\n",
    "        for i in range(0, num_pairs, 2):\n",
    "            \n",
    "            idx1 = i // 2\n",
    "\n",
    "            # Positive pair\n",
    "            \n",
    "            image_pairs[i, 0] = images[idx1]\n",
    "            \n",
    "            image_pairs[i, 1] = images[idx1]\n",
    "            \n",
    "            pair_labels[i] = 1\n",
    "\n",
    "            # Negative pair\n",
    "            \n",
    "            idx2_candidates = np.where(labels != labels[idx1])[0]\n",
    "            \n",
    "            idx2 = np.random.choice(idx2_candidates)\n",
    "            \n",
    "            image_pairs[i + 1, 0] = images[idx1]\n",
    "            \n",
    "            image_pairs[i + 1, 1] = images[idx2]\n",
    "            \n",
    "            pair_labels[i + 1] = 0\n",
    "\n",
    "        yield [image_pairs[:, 0], image_pairs[:, 1]], pair_labels\n"
   ]
  },
  {
   "cell_type": "code",
   "execution_count": 10,
   "id": "d32e3264",
   "metadata": {},
   "outputs": [],
   "source": [
    "# Create iterators for the train, validation, and test sets that generate image pairs and their labels\n",
    "\n",
    "train_pair_iterator = create_pairs_and_labels(train_iterator, train_steps_per_epoch)\n",
    "\n",
    "validation_pair_iterator = create_pairs_and_labels(validation_iterator, validation_steps_per_epoch)\n",
    "\n",
    "test_pair_iterator = create_pairs_and_labels(test_iterator, test_steps_per_epoch)"
   ]
  },
  {
   "cell_type": "code",
   "execution_count": 11,
   "id": "bde2b6f9",
   "metadata": {
    "scrolled": true
   },
   "outputs": [],
   "source": [
    "from tensorflow.keras.applications import MobileNetV2\n",
    "\n",
    "# Loading the pre-trained MobileNetV2 model without the top classification layer\n",
    "\n",
    "base_model = MobileNetV2(weights='imagenet', include_top=False, input_shape=(224, 224, 3))\n",
    "\n",
    "#Using MobileNetV2 model with pre-trained weights. \n",
    "\n",
    "#This is a good strategy to speed up the training, as the model has already learned useful features from a large dataset.\n"
   ]
  },
  {
   "cell_type": "code",
   "execution_count": 12,
   "id": "6a6e25f2",
   "metadata": {},
   "outputs": [
    {
     "name": "stdout",
     "output_type": "stream",
     "text": [
      "Processed left shape: (None, 7, 7, 1280)\n",
      "Processed right shape: (None, 7, 7, 1280)\n"
     ]
    }
   ],
   "source": [
    "import tensorflow as tf\n",
    "\n",
    "from tensorflow.keras.layers import Input, Flatten, Dense, Lambda, Subtract\n",
    "\n",
    "from tensorflow.keras.models import Model\n",
    "\n",
    "def create_siamese_model(base_model):\n",
    "    \n",
    "    # Defining the input tensors for the two input images\n",
    "    \n",
    "    input_left = Input(shape=(224, 224, 3))\n",
    "    \n",
    "    input_right = Input(shape=(224, 224, 3))\n",
    "\n",
    "    # Processing both input images using the same base model\n",
    "    \n",
    "    processed_left = base_model(input_left)\n",
    "    \n",
    "    processed_right = base_model(input_right)\n",
    "    \n",
    "    print(\"Processed left shape:\", processed_left.shape) \n",
    "    \n",
    "    print(\"Processed right shape:\", processed_right.shape) \n",
    "\n",
    "    # Flattening the feature vectors\n",
    "    \n",
    "    flat_left = Flatten()(processed_left)\n",
    "    \n",
    "    flat_right = Flatten()(processed_right)\n",
    "\n",
    "    # Computing the L1 distance between the two feature vectors\n",
    "    \n",
    "    distance = Lambda(lambda x: tf.abs(x[0] - x[1]))([flat_left, flat_right])\n",
    "\n",
    "    # Adding a dense layer to learn the embeddings\n",
    "    \n",
    "    embeddings = Dense(128, activation='relu')(distance)\n",
    "\n",
    "    # Adding the final output layer\n",
    "    \n",
    "    output = Dense(1, activation='sigmoid')(embeddings)\n",
    "\n",
    "    # Creating the Siamese model\n",
    "    \n",
    "    siamese_model = Model(inputs=[input_left, input_right], outputs=output)\n",
    "\n",
    "    return siamese_model\n",
    "\n",
    "# Create the Siamese network with the pre-trained MobileNetV2 model\n",
    "siamese_model = create_siamese_model(base_model)\n"
   ]
  },
  {
   "cell_type": "code",
   "execution_count": 13,
   "id": "06c5e905",
   "metadata": {},
   "outputs": [
    {
     "name": "stdout",
     "output_type": "stream",
     "text": [
      "24463/24463 [==============================] - 269246s 11s/step - loss: 0.0116 - accuracy: 0.9980 - val_loss: 3.2063e-04 - val_accuracy: 0.9999\n"
     ]
    }
   ],
   "source": [
    "# Determining the number of training and validation steps per epoch\n",
    "\n",
    "train_steps_per_epoch = len(train_iterator)\n",
    "\n",
    "validation_steps = len(validation_iterator)\n",
    "\n",
    "siamese_model.compile(optimizer='adam', loss='binary_crossentropy', metrics=['accuracy'])\n",
    "\n",
    "# Training the Siamese network using the pair iterators\n",
    "\n",
    "history = siamese_model.fit(train_pair_iterator,\n",
    "                            \n",
    "                            validation_data=validation_pair_iterator,\n",
    "                            \n",
    "                            steps_per_epoch=train_steps_per_epoch,\n",
    "                            \n",
    "                            validation_steps=validation_steps,\n",
    "                            \n",
    "                            batch_size=32,\n",
    "                            \n",
    "                            epochs=1)\n"
   ]
  },
  {
   "cell_type": "code",
   "execution_count": 14,
   "id": "e776add5",
   "metadata": {},
   "outputs": [
    {
     "name": "stdout",
     "output_type": "stream",
     "text": [
      "5247/5247 [==============================] - 10152s 2s/step - loss: 4.3947e-04 - accuracy: 0.9999\n",
      "Test loss: 0.0004394710995256901\n",
      "Test accuracy: 0.9998868107795715\n"
     ]
    }
   ],
   "source": [
    "test_loss, test_accuracy = siamese_model.evaluate(test_pair_iterator, steps=test_steps_per_epoch)\n",
    "\n",
    "print(\"Test loss:\", test_loss)\n",
    "\n",
    "print(\"Test accuracy:\", test_accuracy)\n"
   ]
  },
  {
   "cell_type": "code",
   "execution_count": 29,
   "id": "2aea3ad0",
   "metadata": {},
   "outputs": [],
   "source": [
    "\n",
    "siamese_model.save('siamese_model.h5')\n"
   ]
  },
  {
   "cell_type": "code",
   "execution_count": 37,
   "id": "68d86dc5",
   "metadata": {},
   "outputs": [
    {
     "name": "stdout",
     "output_type": "stream",
     "text": [
      "5247/5247 [==============================] - 9854s 2s/step\n"
     ]
    }
   ],
   "source": [
    "test_pair_iterator = create_pairs_and_labels(test_iterator, test_steps_per_epoch)\n",
    "\n",
    "y_pred = siamese_model.predict(test_pair_iterator, steps=test_steps_per_epoch)\n",
    "\n",
    "y_pred_labels = np.where(y_pred > 0.5, 1, 0)  # Converting probabilities to binary labels\n"
   ]
  },
  {
   "cell_type": "code",
   "execution_count": 38,
   "id": "6ff45f85",
   "metadata": {},
   "outputs": [],
   "source": [
    "test_pair_iterator = create_pairs_and_labels(test_iterator, test_steps_per_epoch)\n",
    "\n",
    "y_true_labels = []\n",
    "\n",
    "for i in range(test_steps_per_epoch):\n",
    "    \n",
    "    _, labels_batch = next(test_pair_iterator)\n",
    "    \n",
    "    y_true_labels.extend(labels_batch)\n",
    "    \n",
    "y_true_labels = np.array(y_true_labels)\n"
   ]
  },
  {
   "cell_type": "code",
   "execution_count": 39,
   "id": "8dbedf71",
   "metadata": {},
   "outputs": [
    {
     "name": "stdout",
     "output_type": "stream",
     "text": [
      "Precision: 0.9997558317502099\n",
      "Recall: 1.0\n",
      "F1-score: 0.9998779009687515\n",
      "AUC-ROC: 1.0\n"
     ]
    }
   ],
   "source": [
    "from sklearn.metrics import precision_recall_fscore_support, roc_auc_score\n",
    "\n",
    "precision, recall, f1_score, _ = precision_recall_fscore_support(y_true_labels, y_pred_labels, average='binary')\n",
    "\n",
    "auc_roc = roc_auc_score(y_true_labels, y_pred)\n",
    "\n",
    "print(f\"Precision: {precision}\")\n",
    "\n",
    "print(f\"Recall: {recall}\")\n",
    "\n",
    "print(f\"F1-score: {f1_score}\")\n",
    "\n",
    "print(f\"AUC-ROC: {auc_roc}\")\n"
   ]
  },
  {
   "cell_type": "code",
   "execution_count": 40,
   "id": "a57dcb73",
   "metadata": {
    "scrolled": true
   },
   "outputs": [
    {
     "data": {
      "image/png": "[encoded data removed]",
      "text/plain": [
       "<Figure size 1000x600 with 1 Axes>"
      ]
     },
     "metadata": {},
     "output_type": "display_data"
    },
    {
     "name": "stdout",
     "output_type": "stream",
     "text": [
      "                 Values\n",
      "Test loss      0.000439\n",
      "Test accuracy  0.999887\n",
      "Precision      0.999756\n",
      "Recall         1.000000\n",
      "F1-score       0.999878\n",
      "AUC-ROC        1.000000\n"
     ]
    }
   ],
   "source": [
    "import matplotlib.pyplot as plt\n",
    "\n",
    "import pandas as pd\n",
    "\n",
    "# Metrics to plot\n",
    "\n",
    "metrics = ['Test loss', 'Test accuracy', 'Precision', 'Recall', 'F1-score', 'AUC-ROC']\n",
    "\n",
    "values = [test_loss, test_accuracy, precision, recall, f1_score, auc_roc]\n",
    "\n",
    "# Create a bar plot\n",
    "\n",
    "plt.figure(figsize=(10, 6))\n",
    "\n",
    "plt.bar(metrics, values)\n",
    "\n",
    "plt.xlabel('Metrics')\n",
    "\n",
    "plt.ylabel('Values')\n",
    "\n",
    "plt.title('Model Performance Metrics')\n",
    "\n",
    "plt.ylim([0, 1.1])\n",
    "\n",
    "plt.show()\n",
    "\n",
    "# Creating a table using pandas\n",
    "\n",
    "results_df = pd.DataFrame(values, index=metrics, columns=['Values'])\n",
    "\n",
    "print(results_df)\n"
   ]
  },
  {
   "cell_type": "code",
   "execution_count": null,
   "id": "765e5041",
   "metadata": {},
   "outputs": [],
   "source": []
  }
 ],
 "metadata": {
  "kernelspec": {
   "display_name": "Python 3 (ipykernel)",
   "language": "python",
   "name": "python3"
  },
  "language_info": {
   "codemirror_mode": {
    "name": "ipython",
    "version": 3
   },
   "file_extension": ".py",
   "mimetype": "text/x-python",
   "name": "python",
   "nbconvert_exporter": "python",
   "pygments_lexer": "ipython3",
   "version": "3.9.13"
  }
 },
 "nbformat": 4,
 "nbformat_minor": 5
}
